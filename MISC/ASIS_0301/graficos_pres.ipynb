{
  "cells": [
    {
      "cell_type": "raw",
      "metadata": {},
      "source": [
        "---\n",
        "title: graficos_presentacion_asis\n",
        "format: html\n",
        "---"
      ],
      "id": "0e292cea"
    },
    {
      "cell_type": "code",
      "metadata": {},
      "source": [
        "import pandas as pd\n",
        "import numpy as np\n",
        "import plotly.offline as py\n",
        "import plotly.express as px"
      ],
      "id": "4785bca4",
      "execution_count": null,
      "outputs": []
    },
    {
      "cell_type": "code",
      "metadata": {},
      "source": [
        "colores_viridis=['#440154','#fde725','#90d743','#3b528b','#21918c','#31688e','#443983']"
      ],
      "id": "c038347a",
      "execution_count": null,
      "outputs": []
    },
    {
      "cell_type": "code",
      "metadata": {},
      "source": [
        "ine_sexo=pd.read_csv('../../PONDERADOR/INE/totales_ine_sexo.csv').query('año!=2020')\n",
        "ine_sexo['año']=ine_sexo['año'].astype(str)\n",
        "ine_sexo['prop']=ine_sexo.groupby(['año'])['total'].transform(lambda x: (100*x/x.sum()).round(4))"
      ],
      "id": "7c559d46",
      "execution_count": null,
      "outputs": []
    },
    {
      "cell_type": "code",
      "metadata": {},
      "source": [
        "py.plot(px.bar(ine_sexo, \n",
        "x='año', y='prop',color='sexo',\n",
        "category_orders={'sexo':['Hombre','Mujer']},\n",
        "labels={'prop':'Porcentaje','año':'Año','sexo':'Sexo entrevistado','total':'Total'},\n",
        "text='prop',\n",
        "color_discrete_sequence=colores_viridis,\n",
        "hover_data=['prop','total']).update_layout(title_text='Proyección de población INE (2016-2022)<br><sup>Población mayor de 18 años en zonas urbanas</sup>'\n",
        "), filename='graficos/gf_ine_proy_sexo.html',auto_open=False)"
      ],
      "id": "e4f1dd4a",
      "execution_count": null,
      "outputs": []
    },
    {
      "cell_type": "code",
      "metadata": {},
      "source": [
        "ine_edad=pd.read_csv('../../PONDERADOR/INE/totales_ine_edad.csv').query('año!=2020')\n",
        "ine_edad['año']=ine_edad['año'].astype(str)\n",
        "ine_edad['prop']=ine_edad.groupby(['año'])['total'].transform(lambda x: (100*x/x.sum()).round(4))"
      ],
      "id": "da3c7e7a",
      "execution_count": null,
      "outputs": []
    },
    {
      "cell_type": "code",
      "metadata": {},
      "source": [
        "py.plot(px.bar(ine_edad, \n",
        "x='año', y='prop',color='tramo_etario',\n",
        "category_orders={'tramo_etario':['18 a 29','30 a 39','40 a 49','50 a 59','60 o más']},\n",
        "labels={'prop':'Porcentaje','año':'Año','tramo_etario':'Tramo Etario','total':'Total'},\n",
        "text='prop',\n",
        "color_discrete_sequence=colores_viridis,\n",
        "hover_data=['prop','total']).update_layout(title_text='Proyección de población INE (2016-2022)<br><sup>Población mayor de 18 años en zonas urbanas</sup>'\n",
        "),filename='graficos/gf_ine_proy_tramo.html',auto_open=False)"
      ],
      "id": "c1f30947",
      "execution_count": null,
      "outputs": []
    },
    {
      "cell_type": "code",
      "metadata": {},
      "source": [
        "master_pesos=pd.read_csv('../../PONDERADOR/master_pesos.csv')"
      ],
      "id": "afe88ebf",
      "execution_count": null,
      "outputs": []
    },
    {
      "cell_type": "code",
      "metadata": {},
      "source": [
        "def wavg_var(base,var,peso,ambas_muestras=False):\n",
        "  unicos = base[var].unique()\n",
        "  base['muestral']=1\n",
        "  if ambas_muestras:\n",
        "    base['muestra']=0\n",
        "  else:\n",
        "      base\n",
        "  def df_wprop_valor(valor):\n",
        "    base_prop=(base.assign(prop = lambda x: x[var]== valor))\n",
        "    base_group=base_prop.groupby(['muestra','ola'])\n",
        "    w_prop= (base_group.apply(lambda x: 100*np.average(x['prop'],\n",
        "    weights=x[peso])).\n",
        "    round(2)).reset_index()\n",
        "      \n",
        "    w_prop.columns=['muestra','ola','prop']\n",
        "    w_prop['valor']=valor\n",
        "    w_prop['ponderador']=peso\n",
        "  #  w_prop['ola']=w_prop['ola'].astype(str)\n",
        "    return(w_prop)\n",
        "  return pd.concat([df_wprop_valor(i) for i in unicos]).sort_values(by=['muestra','ola'])"
      ],
      "id": "8f9afffa",
      "execution_count": null,
      "outputs": []
    },
    {
      "cell_type": "code",
      "metadata": {},
      "source": [
        "py.plot((px.bar(pd.concat([wavg_var(master_pesos,\n",
        "'tramo_etario',i,True) for i in ['muestral','ponderadorlong_total']]).assign(ponderador= lambda x: x.ponderador.map({'muestral': 'Muestra','ponderadorlong_total':'P. longitudinal'})), \n",
        "x='ola', y='prop',color='valor',facet_col='ponderador',\n",
        "category_orders={'valor':['18 a 29','30 a 39','40 a 49','50 a 59','60 o más']},\n",
        "labels={'prop':'Porcentaje','ola':'Año de Estudio','valor':'Tramo Etario'},\n",
        "text='prop',\n",
        "color_discrete_sequence=colores_viridis).\n",
        "update_layout(legend=dict(\n",
        "    orientation=\"h\",\n",
        "    yanchor=\"bottom\",\n",
        "    y=1.1,\n",
        "    xanchor=\"right\",\n",
        "    x=1))\n",
        "    ).\n",
        "    for_each_annotation(lambda a: a.update(text=a.text.split(\"=\")[-1])),\n",
        "    filename='graficos/gf_tramo_etario_muestral_ponderado.html',auto_open=False)\n"
      ],
      "id": "baf27bb2",
      "execution_count": null,
      "outputs": []
    },
    {
      "cell_type": "code",
      "metadata": {},
      "source": [
        "py.plot((px.bar(pd.concat([wavg_var(master_pesos,\n",
        "'m0_sexo',i,False) for i in ['muestral','ponderadorlong_total']]).assign(ponderador= lambda x: x.ponderador.map({'muestral': 'Muestra','ponderadorlong_total':'P. longitudinal'})), \n",
        "x='ola', y='prop',color='valor',facet_col='ponderador',\n",
        "category_orders={'valor':['Hombre','Mujer']},\n",
        "labels={'prop':'Porcentaje','ola':'Año de Estudio','valor':'Sexo Entrevistado'},\n",
        "text='prop',\n",
        "color_discrete_sequence=colores_viridis).\n",
        "update_layout(legend=dict(\n",
        "    orientation=\"h\",\n",
        "    yanchor=\"bottom\",\n",
        "    y=1.1,\n",
        "    xanchor=\"right\",\n",
        "    x=1))).\n",
        "    for_each_annotation(lambda a: a.update(text=a.text.split(\"=\")[-1])),\n",
        "    filename='graficos/gf_sexo_muestral_ponderado.html',auto_open=False)"
      ],
      "id": "6f12196f",
      "execution_count": null,
      "outputs": []
    },
    {
      "cell_type": "markdown",
      "metadata": {},
      "source": [
        "# Proporciones ponderadas\n"
      ],
      "id": "03454833"
    },
    {
      "cell_type": "code",
      "metadata": {},
      "source": [
        "elsoc_long=pd.read_csv('../../elsoc_long_pesos.csv',sep=\";\")"
      ],
      "id": "db44032f",
      "execution_count": null,
      "outputs": []
    }
  ],
  "metadata": {
    "kernelspec": {
      "name": "python3",
      "language": "python",
      "display_name": "Python 3 (ipykernel)"
    }
  },
  "nbformat": 4,
  "nbformat_minor": 5
}